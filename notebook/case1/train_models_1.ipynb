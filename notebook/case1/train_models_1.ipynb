{
 "cells": [
  {
   "cell_type": "code",
   "execution_count": 1,
   "id": "c789d477-a221-4bf6-b577-067a059cfb8c",
   "metadata": {
    "tags": []
   },
   "outputs": [],
   "source": [
    "import os\n",
    "import pickle\n",
    "os.getcwd()\n",
    "os.chdir(\"../../\")\n",
    "\n",
    "import numpy as np\n",
    "from matplotlib import pyplot as plt"
   ]
  },
  {
   "cell_type": "code",
   "execution_count": 2,
   "id": "fc1699a9-1668-49cd-9809-f78ef7a98e26",
   "metadata": {
    "tags": []
   },
   "outputs": [],
   "source": [
    "from src.gpdssm.models import StandardSingleModel"
   ]
  },
  {
   "cell_type": "code",
   "execution_count": 3,
   "id": "560ada32-3df6-4fa2-9592-48a5693e571a",
   "metadata": {
    "tags": []
   },
   "outputs": [],
   "source": [
    "def init_model(fold, cycle=1, learning_rate=0.001):\n",
    "    model = StandardSingleModel(data_name=\"train_1\", data_fold=fold, dim_hidden=[2], num_rff=50, num_particle=1000, \n",
    "                            display_step=2000, warm_start=0, learning_rate=learning_rate, num_train_cycle=cycle)\n",
    "    return model\n",
    "\n",
    "def first_round_learn(model_list, cycle_array, rate_array):\n",
    "    C = len(model_list)\n",
    "    new_model_list = [init_model(i, cycle_array[i-1], rate_array[i-1]) for i in range(1, C+1)]\n",
    "\n",
    "    print(\"Class 0 starts learning\")\n",
    "    new_model_list[0].learn()\n",
    "    \n",
    "    for i in range(1, C):\n",
    "        print(\"Class \" + str(i) + \" starts learning\")\n",
    "        new_model_list[i].initialize_structure_from_model(new_model_list[i-1])\n",
    "        new_model_list[i].learn()\n",
    "        \n",
    "    return new_model_list\n",
    "        \n",
    "def next_round_learn(model_list, cycle_array, rate_array):\n",
    "    C = len(model_list)\n",
    "    new_model_list = [init_model(i, cycle_array[i-1], rate_array[i-1]) for i in range(1, C+1)]\n",
    "    \n",
    "    print(\"Class 0 starts learning\")\n",
    "    new_model_list[0].initialize_structure_from_model(model_list[-1], model_list[0])\n",
    "    new_model_list[0].relearn()\n",
    "    \n",
    "    for i in range(1, C):\n",
    "        print(\"Class \" + str(i) + \" starts learning\")\n",
    "        new_model_list[i].initialize_structure_from_model(new_model_list[i-1], model_list[i])\n",
    "        new_model_list[i].relearn()\n",
    "            \n",
    "    return new_model_list"
   ]
  },
  {
   "cell_type": "code",
   "execution_count": 4,
   "id": "1a618e0e-6b57-4323-bc50-90071d2b9d8f",
   "metadata": {
    "tags": []
   },
   "outputs": [],
   "source": [
    "C = 3\n",
    "cycle = [1, 1, 1]\n",
    "rate = [0.001, 0.001, 0.001]"
   ]
  },
  {
   "cell_type": "code",
   "execution_count": 5,
   "id": "b5ca5db9-1608-4b97-a74d-62d3c2db8390",
   "metadata": {
    "tags": []
   },
   "outputs": [
    {
     "name": "stdout",
     "output_type": "stream",
     "text": [
      "Class 0 starts learning\n",
      ">>> train cycle 1\n",
      ">>> cycle=1, t=1, mse=1.6207, mnll=6.3069, time=0.0 minutes\n",
      ">>> cycle=1, t=2000, mse=0.9007, mnll=-2.5801, time=0.29 minutes\n",
      ">>> cycle=1, t=4000, mse=0.5967, mnll=-4.8824, time=0.59 minutes\n",
      ">>> cycle=1, t=6000, mse=0.4517, mnll=-6.267, time=0.89 minutes\n",
      ">>> cycle=1, t=8000, mse=0.3691, mnll=-7.303, time=1.2 minutes\n",
      ">>> cycle=1, t=10000, mse=0.3153, mnll=-8.1376, time=1.51 minutes\n",
      "Class 1 starts learning\n",
      ">>> train cycle 1\n",
      ">>> cycle=1, t=1, mse=6.7759, mnll=-81273.5391, time=0.0 minutes\n",
      ">>> cycle=1, t=2000, mse=2.9758, mnll=-34.6178, time=0.31 minutes\n",
      ">>> cycle=1, t=4000, mse=2.2962, mnll=-20.5536, time=0.61 minutes\n",
      ">>> cycle=1, t=6000, mse=2.0317, mnll=-15.9969, time=0.93 minutes\n",
      ">>> cycle=1, t=8000, mse=1.8817, mnll=-13.7467, time=1.25 minutes\n",
      ">>> cycle=1, t=10000, mse=1.7798, mnll=-12.5867, time=1.55 minutes\n",
      "Class 2 starts learning\n",
      ">>> train cycle 1\n",
      ">>> cycle=1, t=1, mse=2.0701, mnll=-125806.7512, time=0.0 minutes\n",
      ">>> cycle=1, t=2000, mse=2.405, mnll=-71.7036, time=0.3 minutes\n",
      ">>> cycle=1, t=4000, mse=1.8025, mnll=-40.5316, time=0.6 minutes\n",
      ">>> cycle=1, t=6000, mse=1.5347, mnll=-30.3087, time=0.9 minutes\n",
      ">>> cycle=1, t=8000, mse=1.3814, mnll=-25.2709, time=1.21 minutes\n",
      ">>> cycle=1, t=10000, mse=1.2822, mnll=-22.3218, time=1.54 minutes\n"
     ]
    }
   ],
   "source": [
    "model_list = [init_model(i, cycle[i-1], rate[i-1]) for i in range(1, C+1)]\n",
    "model_list = first_round_learn(model_list, cycle, rate)"
   ]
  },
  {
   "cell_type": "code",
   "execution_count": 6,
   "id": "ce8220ec-2fec-4702-8d51-d72e5b8621a1",
   "metadata": {
    "tags": []
   },
   "outputs": [],
   "source": [
    "# for i in range(3):\n",
    "#     model_list = next_round_learn(model_list, cycle, rate)"
   ]
  },
  {
   "cell_type": "code",
   "execution_count": 7,
   "id": "a1d3349b-ec28-4fe0-acfc-87225927674f",
   "metadata": {
    "tags": []
   },
   "outputs": [],
   "source": [
    "cwd = os.getcwd()\n",
    "model_path = os.path.join(cwd, \"models\", \"train_1.pickle\")\n",
    "with open(model_path, 'wb') as f:\n",
    "    pickle.dump(model_list, f)"
   ]
  },
  {
   "cell_type": "code",
   "execution_count": null,
   "id": "55bab876-69ff-42c4-8bbe-4d3a1a4ae134",
   "metadata": {},
   "outputs": [],
   "source": []
  },
  {
   "cell_type": "code",
   "execution_count": null,
   "id": "761d126b-cd55-42ac-bd14-b33584ee77de",
   "metadata": {},
   "outputs": [],
   "source": []
  }
 ],
 "metadata": {
  "kernelspec": {
   "display_name": "Python 3 (ipykernel)",
   "language": "python",
   "name": "python3"
  },
  "language_info": {
   "codemirror_mode": {
    "name": "ipython",
    "version": 3
   },
   "file_extension": ".py",
   "mimetype": "text/x-python",
   "name": "python",
   "nbconvert_exporter": "python",
   "pygments_lexer": "ipython3",
   "version": "3.11.4"
  }
 },
 "nbformat": 4,
 "nbformat_minor": 5
}
