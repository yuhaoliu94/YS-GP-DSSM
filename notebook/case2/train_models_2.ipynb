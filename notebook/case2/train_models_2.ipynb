{
 "cells": [
  {
   "cell_type": "code",
   "execution_count": 1,
   "id": "c789d477-a221-4bf6-b577-067a059cfb8c",
   "metadata": {
    "tags": []
   },
   "outputs": [],
   "source": [
    "import os\n",
    "import pickle\n",
    "os.getcwd()\n",
    "os.chdir(\"../../\")\n",
    "\n",
    "import numpy as np\n",
    "from matplotlib import pyplot as plt"
   ]
  },
  {
   "cell_type": "code",
   "execution_count": 2,
   "id": "fc1699a9-1668-49cd-9809-f78ef7a98e26",
   "metadata": {
    "tags": []
   },
   "outputs": [],
   "source": [
    "from src.gpdssm.models import StandardSingleModel"
   ]
  },
  {
   "cell_type": "code",
   "execution_count": 3,
   "id": "560ada32-3df6-4fa2-9592-48a5693e571a",
   "metadata": {
    "tags": []
   },
   "outputs": [],
   "source": [
    "def init_model(fold, cycle=1, learning_rate=0.001):\n",
    "    model = StandardSingleModel(data_name=\"train_2\", data_fold=fold, dim_hidden=[2], num_rff=50, num_particle=100, \n",
    "                            display_step=2000, warm_start=0, learning_rate=learning_rate, num_train_cycle=cycle)\n",
    "    return model\n",
    "\n",
    "# def zero_round_learn(model_list):\n",
    "#     for i in range(len(model_list)):\n",
    "#         print(\"Class \" + str(i) + \" starts learning\")\n",
    "#         model_list[i].learn()\n",
    "\n",
    "# def first_round_learn(model_list):\n",
    "#     C = len(model_list)\n",
    "#     new_model_list = [init_model(i, cycle_array[i-1]) for i in range(1, C+1)]\n",
    "#     print(\"Class 0 starts learning\")\n",
    "#     new_model_list[0].initialize_structure_from_model(model_from_same_class = model_list[0])\n",
    "#     new_model_list[0].learn()\n",
    "    \n",
    "#     for i in range(1, C):\n",
    "#         print(\"Class \" + str(i) + \" starts learning\")\n",
    "#         new_model_list[i].initialize_structure_from_model(new_model_list[i-1], model_list[i])\n",
    "#         new_model_list[i].learn()\n",
    "        \n",
    "#     return new_model_list\n",
    "\n",
    "def first_round_learn(model_list, cycle_array, rate_array):\n",
    "    C = len(model_list)\n",
    "    new_model_list = [init_model(i, cycle_array[i-1], rate_array[i-1]) for i in range(1, C+1)]\n",
    "\n",
    "    print(\"Class 0 starts learning\")\n",
    "    new_model_list[0].learn()\n",
    "    \n",
    "    for i in range(1, C):\n",
    "        print(\"Class \" + str(i) + \" starts learning\")\n",
    "        new_model_list[i].initialize_structure_from_model(new_model_list[i-1])\n",
    "        new_model_list[i].learn()\n",
    "        \n",
    "    return new_model_list\n",
    "        \n",
    "# def next_round_learn(model_list, cycle_array, rate_array, stop, flag):\n",
    "#     C = len(model_list)\n",
    "#     new_model_list = [init_model(i, cycle_array[i-1], rate_array[i-1]) for i in range(1, C+1)]\n",
    "    \n",
    "#     # if not stop[0]:\n",
    "#     #     print(\"Class 0 starts learning\")\n",
    "#     #     new_model_list[0].initialize_structure_from_model(model_list[flag], model_list[0])\n",
    "#     #     new_model_list[0].relearn()\n",
    "#     #     flag = 0\n",
    "#     # else:\n",
    "#     #     new_model_list[0] = model_list[0]\n",
    "    \n",
    "#     for i in range(C):\n",
    "#         if not stop[i]:\n",
    "#             print(\"Class \" + str(i) + \" starts learning\")\n",
    "#             if flag < i:\n",
    "#                 new_model_list[i].initialize_structure_from_model(new_model_list[flag], model_list[i])\n",
    "#             else:\n",
    "#                 new_model_list[i].initialize_structure_from_model(model_list[flag], model_list[i])\n",
    "#             new_model_list[i].relearn()\n",
    "#             flag = i\n",
    "#         else:\n",
    "#             new_model_list[i] = model_list[i]\n",
    "        \n",
    "            \n",
    "#     return new_model_list, flag\n",
    "\n",
    "def next_round_learn(model_list, cycle_array, rate_array, stop, flag):\n",
    "    C = len(model_list)\n",
    "    new_model_list = [init_model(i, cycle_array[i-1], rate_array[i-1]) for i in range(1, C+1)]\n",
    "    \n",
    "    # if not stop[0]:\n",
    "    print(\"Class 0 starts learning\")\n",
    "    new_model_list[0].initialize_structure_from_model(model_list[-1], model_list[0])\n",
    "    new_model_list[0].relearn()\n",
    "    #     flag = 0\n",
    "    # else:\n",
    "    #     new_model_list[0] = model_list[0]\n",
    "    \n",
    "    for i in range(1, C):\n",
    "        # if not stop[i]:\n",
    "        #     print(\"Class \" + str(i) + \" starts learning\")\n",
    "        #     if flag < i:\n",
    "        #         new_model_list[i].initialize_structure_from_model(new_model_list[flag], model_list[i])\n",
    "        #     else:\n",
    "        #         new_model_list[i].initialize_structure_from_model(model_list[flag], model_list[i])\n",
    "        #     new_model_list[i].relearn()\n",
    "        #     flag = i\n",
    "        # else:\n",
    "        #     new_model_list[i] = model_list[i]\n",
    "        print(\"Class \" + str(i) + \" starts learning\")\n",
    "        new_model_list[i].initialize_structure_from_model(new_model_list[i-1], model_list[i])\n",
    "        new_model_list[i].relearn()\n",
    "            \n",
    "    return new_model_list\n",
    "\n",
    "def get_mse_list(model_list):\n",
    "    return [model_list[i].get_mse()[-1] for i in range(len(model_list))]\n",
    "\n",
    "def check_stop(mse_list, model_list):\n",
    "    new_mse_list = get_mse_list(model_list)\n",
    "    ratio = np.array(new_mse_list) / np.array(mse_list)\n",
    "    return new_mse_list, (ratio > 0.98) & (ratio < 1.02)"
   ]
  },
  {
   "cell_type": "code",
   "execution_count": 4,
   "id": "1a618e0e-6b57-4323-bc50-90071d2b9d8f",
   "metadata": {
    "tags": []
   },
   "outputs": [],
   "source": [
    "C = 3\n",
    "cycle = [1, 1, 1]\n",
    "rate = [0.005, 0.001, 0.001]\n",
    "stop = [0, 0, 0]\n",
    "flag = C - 1"
   ]
  },
  {
   "cell_type": "code",
   "execution_count": 5,
   "id": "b5ca5db9-1608-4b97-a74d-62d3c2db8390",
   "metadata": {
    "tags": []
   },
   "outputs": [
    {
     "name": "stdout",
     "output_type": "stream",
     "text": [
      "Class 0 starts learning\n",
      ">>> train cycle 1\n",
      ">>> cycle=1, t=1, mse=1.8214, mnll=6.2214, time=0.0 minutes\n",
      ">>> cycle=1, t=2000, mse=0.4431, mnll=-11.3021, time=0.11 minutes\n",
      ">>> cycle=1, t=4000, mse=0.2303, mnll=-16.1969, time=0.22 minutes\n",
      ">>> cycle=1, t=6000, mse=0.1572, mnll=-19.051, time=0.34 minutes\n",
      ">>> cycle=1, t=8000, mse=0.1203, mnll=-21.0473, time=0.46 minutes\n",
      ">>> cycle=1, t=10000, mse=0.0981, mnll=-22.5689, time=0.59 minutes\n",
      "Class 1 starts learning\n",
      ">>> train cycle 1\n",
      ">>> cycle=1, t=1, mse=4.6822, mnll=-225221.8585, time=0.0 minutes\n",
      ">>> cycle=1, t=2000, mse=1.5701, mnll=-122.2715, time=0.11 minutes\n",
      ">>> cycle=1, t=4000, mse=1.4466, mnll=-71.7033, time=0.22 minutes\n",
      ">>> cycle=1, t=6000, mse=1.4163, mnll=-55.0026, time=0.34 minutes\n",
      ">>> cycle=1, t=8000, mse=1.3913, mnll=-46.7095, time=0.46 minutes\n",
      ">>> cycle=1, t=10000, mse=1.3745, mnll=-41.9855, time=0.58 minutes\n",
      "Class 2 starts learning\n",
      ">>> train cycle 1\n",
      ">>> cycle=1, t=1, mse=3.8018, mnll=-419500.3422, time=0.0 minutes\n",
      ">>> cycle=1, t=2000, mse=0.8935, mnll=-235.1561, time=0.11 minutes\n",
      ">>> cycle=1, t=4000, mse=0.8341, mnll=-130.8327, time=0.22 minutes\n",
      ">>> cycle=1, t=6000, mse=0.8093, mnll=-96.276, time=0.34 minutes\n",
      ">>> cycle=1, t=8000, mse=0.7922, mnll=-79.0941, time=0.46 minutes\n",
      ">>> cycle=1, t=10000, mse=0.7831, mnll=-68.8858, time=0.58 minutes\n"
     ]
    }
   ],
   "source": [
    "model_list = [init_model(i, cycle[i-1], rate[i-1]) for i in range(1, C+1)]\n",
    "\n",
    "model_list = first_round_learn(model_list, cycle, rate)\n",
    "# model_list[2].learn()"
   ]
  },
  {
   "cell_type": "code",
   "execution_count": 6,
   "id": "c20372a0-0e09-45c8-9a95-22c0744ded15",
   "metadata": {
    "tags": []
   },
   "outputs": [],
   "source": [
    "# for i in range(1):\n",
    "#     model_list = next_round_learn(model_list, cycle, rate, stop, flag)\n",
    "#     # mse_list, stop = check_stop(mse_list, model_list)"
   ]
  },
  {
   "cell_type": "code",
   "execution_count": 7,
   "id": "a1d3349b-ec28-4fe0-acfc-87225927674f",
   "metadata": {
    "tags": []
   },
   "outputs": [],
   "source": [
    "cwd = os.getcwd()\n",
    "model_path = os.path.join(cwd, \"models\", \"train_2.pickle\")\n",
    "with open(model_path, 'wb') as f:\n",
    "    pickle.dump(model_list, f)"
   ]
  },
  {
   "cell_type": "code",
   "execution_count": null,
   "id": "55bab876-69ff-42c4-8bbe-4d3a1a4ae134",
   "metadata": {},
   "outputs": [],
   "source": []
  },
  {
   "cell_type": "code",
   "execution_count": null,
   "id": "d179a903-8c3c-4c3f-bff6-2bbbc61b3ad9",
   "metadata": {},
   "outputs": [],
   "source": []
  }
 ],
 "metadata": {
  "kernelspec": {
   "display_name": "Python 3 (ipykernel)",
   "language": "python",
   "name": "python3"
  },
  "language_info": {
   "codemirror_mode": {
    "name": "ipython",
    "version": 3
   },
   "file_extension": ".py",
   "mimetype": "text/x-python",
   "name": "python",
   "nbconvert_exporter": "python",
   "pygments_lexer": "ipython3",
   "version": "3.11.4"
  }
 },
 "nbformat": 4,
 "nbformat_minor": 5
}
