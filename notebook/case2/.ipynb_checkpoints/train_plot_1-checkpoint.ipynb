{
 "cells": [
  {
   "cell_type": "code",
   "execution_count": 1,
   "id": "c789d477-a221-4bf6-b577-067a059cfb8c",
   "metadata": {
    "tags": []
   },
   "outputs": [],
   "source": [
    "import os\n",
    "import pickle\n",
    "os.getcwd()\n",
    "os.chdir(\"../../\")\n",
    "\n",
    "import numpy as np\n",
    "from matplotlib import pyplot as plt"
   ]
  },
  {
   "cell_type": "code",
   "execution_count": 2,
   "id": "c12c5c26-70cd-4861-904e-ee055f3bac65",
   "metadata": {},
   "outputs": [
    {
     "ename": "FileNotFoundError",
     "evalue": "[Errno 2] No such file or directory: 'C:\\\\Repo\\\\gpdssm_ys\\\\models\\\\train.pickle'",
     "output_type": "error",
     "traceback": [
      "\u001b[1;31m---------------------------------------------------------------------------\u001b[0m",
      "\u001b[1;31mFileNotFoundError\u001b[0m                         Traceback (most recent call last)",
      "Cell \u001b[1;32mIn[2], line 3\u001b[0m\n\u001b[0;32m      1\u001b[0m cwd \u001b[38;5;241m=\u001b[39m os\u001b[38;5;241m.\u001b[39mgetcwd()\n\u001b[0;32m      2\u001b[0m model_path \u001b[38;5;241m=\u001b[39m os\u001b[38;5;241m.\u001b[39mpath\u001b[38;5;241m.\u001b[39mjoin(cwd, \u001b[38;5;124m\"\u001b[39m\u001b[38;5;124mmodels\u001b[39m\u001b[38;5;124m\"\u001b[39m, \u001b[38;5;124m\"\u001b[39m\u001b[38;5;124mtrain.pickle\u001b[39m\u001b[38;5;124m\"\u001b[39m)\n\u001b[1;32m----> 3\u001b[0m \u001b[38;5;28;01mwith\u001b[39;00m \u001b[38;5;28mopen\u001b[39m(model_path, \u001b[38;5;124m'\u001b[39m\u001b[38;5;124mrb\u001b[39m\u001b[38;5;124m'\u001b[39m) \u001b[38;5;28;01mas\u001b[39;00m f:\n\u001b[0;32m      4\u001b[0m     model_list \u001b[38;5;241m=\u001b[39m pickle\u001b[38;5;241m.\u001b[39mload(f)\n",
      "File \u001b[1;32mC:\\Anaconda\\Lib\\site-packages\\IPython\\core\\interactiveshell.py:284\u001b[0m, in \u001b[0;36m_modified_open\u001b[1;34m(file, *args, **kwargs)\u001b[0m\n\u001b[0;32m    277\u001b[0m \u001b[38;5;28;01mif\u001b[39;00m file \u001b[38;5;129;01min\u001b[39;00m {\u001b[38;5;241m0\u001b[39m, \u001b[38;5;241m1\u001b[39m, \u001b[38;5;241m2\u001b[39m}:\n\u001b[0;32m    278\u001b[0m     \u001b[38;5;28;01mraise\u001b[39;00m \u001b[38;5;167;01mValueError\u001b[39;00m(\n\u001b[0;32m    279\u001b[0m         \u001b[38;5;124mf\u001b[39m\u001b[38;5;124m\"\u001b[39m\u001b[38;5;124mIPython won\u001b[39m\u001b[38;5;124m'\u001b[39m\u001b[38;5;124mt let you open fd=\u001b[39m\u001b[38;5;132;01m{\u001b[39;00mfile\u001b[38;5;132;01m}\u001b[39;00m\u001b[38;5;124m by default \u001b[39m\u001b[38;5;124m\"\u001b[39m\n\u001b[0;32m    280\u001b[0m         \u001b[38;5;124m\"\u001b[39m\u001b[38;5;124mas it is likely to crash IPython. If you know what you are doing, \u001b[39m\u001b[38;5;124m\"\u001b[39m\n\u001b[0;32m    281\u001b[0m         \u001b[38;5;124m\"\u001b[39m\u001b[38;5;124myou can use builtins\u001b[39m\u001b[38;5;124m'\u001b[39m\u001b[38;5;124m open.\u001b[39m\u001b[38;5;124m\"\u001b[39m\n\u001b[0;32m    282\u001b[0m     )\n\u001b[1;32m--> 284\u001b[0m \u001b[38;5;28;01mreturn\u001b[39;00m io_open(file, \u001b[38;5;241m*\u001b[39margs, \u001b[38;5;241m*\u001b[39m\u001b[38;5;241m*\u001b[39mkwargs)\n",
      "\u001b[1;31mFileNotFoundError\u001b[0m: [Errno 2] No such file or directory: 'C:\\\\Repo\\\\gpdssm_ys\\\\models\\\\train.pickle'"
     ]
    }
   ],
   "source": [
    "cwd = os.getcwd()\n",
    "model_path = os.path.join(cwd, \"models\", \"train_2.pickle\")\n",
    "with open(model_path, 'rb') as f:\n",
    "    model_list = pickle.load(f)"
   ]
  },
  {
   "cell_type": "code",
   "execution_count": null,
   "id": "d25f45d5-f7b5-42a2-b81f-f5e8fcf2b11a",
   "metadata": {
    "tags": []
   },
   "outputs": [],
   "source": [
    "model = model_list[2]"
   ]
  },
  {
   "cell_type": "code",
   "execution_count": null,
   "id": "e7cd7c13-448e-4d9e-9721-90e80ba98a28",
   "metadata": {
    "tags": []
   },
   "outputs": [],
   "source": [
    "plt.plot(model.get_mse())"
   ]
  },
  {
   "cell_type": "code",
   "execution_count": null,
   "id": "ba760595-413d-4ebf-b7ee-7e3bef685291",
   "metadata": {
    "tags": []
   },
   "outputs": [],
   "source": [
    "plt.plot(model.get_mnll())"
   ]
  },
  {
   "cell_type": "code",
   "execution_count": null,
   "id": "69f630b3-c9c2-4d6d-8356-2565e8efd893",
   "metadata": {
    "tags": []
   },
   "outputs": [],
   "source": [
    "pred = model.get_predictions()\n",
    "obs = model.get_observations()\n",
    "\n",
    "for d in range(10):\n",
    "    start = -101\n",
    "    end = start +100\n",
    "    plt.plot(obs[start:end,d], label='obs')\n",
    "    plt.plot(pred[start:end,d], label='pred')\n",
    "    plt.legend()\n",
    "    plt.show()"
   ]
  },
  {
   "cell_type": "code",
   "execution_count": null,
   "id": "5ee06829-2cc4-45d5-9f9a-9395e46daae4",
   "metadata": {
    "tags": []
   },
   "outputs": [],
   "source": [
    "X_est = model.get_estimated_states()[0]\n",
    "X_act = model.get_actual_states()"
   ]
  },
  {
   "cell_type": "code",
   "execution_count": null,
   "id": "52de76a2-8a48-4fcf-880d-b3cc43078050",
   "metadata": {
    "tags": []
   },
   "outputs": [],
   "source": [
    "svd_dict = model.get_svd_representation(1000)\n",
    "U = svd_dict[\"actual_svd_representation\"][0]\n",
    "U_est = svd_dict[\"estimated_svd_representation\"][0]\n",
    "plt.plot(U[:, 0], U[:, 1])\n",
    "plt.show()\n",
    "\n",
    "plt.plot(U_est[:, 0], U_est[:, 1])\n",
    "plt.show()"
   ]
  },
  {
   "cell_type": "code",
   "execution_count": null,
   "id": "8dad684b-8e93-4709-b429-ba5e7fa6426c",
   "metadata": {
    "tags": []
   },
   "outputs": [],
   "source": [
    "ll = model.get_log_likelihoods()\n",
    "plt.plot(np.cumsum(ll) / np.arange(1, len(ll) + 1))"
   ]
  },
  {
   "cell_type": "code",
   "execution_count": null,
   "id": "2ca18a30-f4ff-4cf1-8777-90f7b68a8e25",
   "metadata": {
    "tags": []
   },
   "outputs": [],
   "source": [
    "ll = model.get_log_likelihoods_forward()\n",
    "plt.plot(np.cumsum(ll) / np.arange(1, len(ll) + 1))"
   ]
  },
  {
   "cell_type": "code",
   "execution_count": null,
   "id": "ce3c74f0-11f7-4009-aced-196787420098",
   "metadata": {},
   "outputs": [],
   "source": []
  },
  {
   "cell_type": "code",
   "execution_count": null,
   "id": "21693828-69f7-47f7-8317-c43d112a04dc",
   "metadata": {},
   "outputs": [],
   "source": []
  }
 ],
 "metadata": {
  "kernelspec": {
   "display_name": "Python 3 (ipykernel)",
   "language": "python",
   "name": "python3"
  },
  "language_info": {
   "codemirror_mode": {
    "name": "ipython",
    "version": 3
   },
   "file_extension": ".py",
   "mimetype": "text/x-python",
   "name": "python",
   "nbconvert_exporter": "python",
   "pygments_lexer": "ipython3",
   "version": "3.11.4"
  }
 },
 "nbformat": 4,
 "nbformat_minor": 5
}
